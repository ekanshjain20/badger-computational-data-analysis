{
 "cells": [
  {
   "cell_type": "markdown",
   "metadata": {},
   "source": [
    "Question 1"
   ]
  },
  {
   "cell_type": "code",
   "execution_count": 3,
   "metadata": {},
   "outputs": [
    {
     "name": "stdout",
     "output_type": "stream",
     "text": [
      "Enter your number 5\n",
      "120\n"
     ]
    }
   ],
   "source": [
    "a=int(input(\"Enter your number \"))\n",
    "i=1\n",
    "if(a>0):\n",
    "    while (a>0):\n",
    "        i=i*a\n",
    "        a=a-1\n",
    "    print(i)\n",
    "elif(a==0):\n",
    "    print(\"1\")\n",
    "else:\n",
    "    print(\"Enter a valid number\")"
   ]
  },
  {
   "cell_type": "markdown",
   "metadata": {},
   "source": [
    "Question 2"
   ]
  },
  {
   "cell_type": "code",
   "execution_count": 8,
   "metadata": {},
   "outputs": [
    {
     "name": "stdout",
     "output_type": "stream",
     "text": [
      "[4, 3, 2, 1]\n"
     ]
    }
   ],
   "source": [
    "list=[1,2,3,4]\n",
    "i=1\n",
    "while(i==1):\n",
    "    list.reverse()\n",
    "    print(list)\n",
    "    i=i-1"
   ]
  },
  {
   "cell_type": "markdown",
   "metadata": {},
   "source": [
    "Question 3"
   ]
  },
  {
   "cell_type": "code",
   "execution_count": 64,
   "metadata": {},
   "outputs": [
    {
     "name": "stdout",
     "output_type": "stream",
     "text": [
      "How many numbers of fibonacci series do you want 10\n",
      "1\n",
      "1\n",
      "2\n",
      "3\n",
      "5\n",
      "8\n",
      "13\n",
      "21\n",
      "34\n",
      "55\n"
     ]
    }
   ],
   "source": [
    "n=int(input(\"How many numbers of fibonacci series do you want \"))\n",
    "a=1\n",
    "b=0\n",
    "c=0\n",
    "while(n>0):\n",
    "    if(n>0):\n",
    "        print(a)\n",
    "    n=(n-1)\n",
    "    if(n>0):\n",
    "        b=a+c\n",
    "        print(b)\n",
    "    n=(n-1)\n",
    "    if(n>0):\n",
    "        c=a+b\n",
    "        print(c)\n",
    "    a=b+c\n",
    "    n=(n-1)"
   ]
  },
  {
   "cell_type": "markdown",
   "metadata": {},
   "source": [
    "Question 4"
   ]
  },
  {
   "cell_type": "code",
   "execution_count": 31,
   "metadata": {},
   "outputs": [
    {
     "name": "stdout",
     "output_type": "stream",
     "text": [
      "30\n"
     ]
    }
   ],
   "source": [
    "a=2+4+6+8+10\n",
    "print(a)"
   ]
  },
  {
   "cell_type": "markdown",
   "metadata": {},
   "source": [
    "Question 5"
   ]
  },
  {
   "cell_type": "code",
   "execution_count": 29,
   "metadata": {},
   "outputs": [
    {
     "name": "stdout",
     "output_type": "stream",
     "text": [
      "Enter lowest number 1\n",
      "Enter largest number 30\n",
      "Enter number from which you have to divide 3\n",
      "9 numbers are divisible by 3\n"
     ]
    }
   ],
   "source": [
    "a=int(input(\"Enter lowest number \"))\n",
    "b=int(input(\"Enter largest number \"))\n",
    "c=int(input(\"Enter number from which you have to divide \"))\n",
    "count=0\n",
    "for i in range(a,b):\n",
    "    d=1\n",
    "    while(d>0):\n",
    "        d=d-1\n",
    "        if(i%c==0):\n",
    "            count=count+1\n",
    "print(count,\"numbers are divisible by\",c)"
   ]
  },
  {
   "cell_type": "markdown",
   "metadata": {},
   "source": [
    "Question 6"
   ]
  },
  {
   "cell_type": "code",
   "execution_count": 36,
   "metadata": {},
   "outputs": [
    {
     "name": "stdout",
     "output_type": "stream",
     "text": [
      "5 6 7 8\n",
      "15 16 17 18\n",
      "25 26 27 28\n",
      "35 36 37 38\n",
      "45 46 47 48\n"
     ]
    }
   ],
   "source": [
    "n=5\n",
    "a,b,c,d=5,6,7,8\n",
    "while(n>0):\n",
    "    n=n-1\n",
    "    print(a,b,c,d)\n",
    "    a,b,c,d=(a+10),(b+10),(c+10),(d+10) "
   ]
  },
  {
   "cell_type": "markdown",
   "metadata": {},
   "source": [
    "Question 7"
   ]
  },
  {
   "cell_type": "code",
   "execution_count": 1,
   "metadata": {},
   "outputs": [
    {
     "name": "stdout",
     "output_type": "stream",
     "text": [
      "Enter first number 20\n",
      "Enter second number 30\n",
      "Enter third number 50\n",
      "50 > 30 > 20\n"
     ]
    }
   ],
   "source": [
    "a=int(input(\"Enter first number \"))\n",
    "b=int(input(\"Enter second number \"))\n",
    "c=int(input(\"Enter third number \"))\n",
    "if(a>b):\n",
    "    if(a>c):\n",
    "        if(b>c):\n",
    "            print(a, \">\" ,b, \">\" ,c)\n",
    "        else:\n",
    "            print(a, \">\" ,c, \">\" ,b)\n",
    "    else:\n",
    "        print(c, \">\" ,a, \">\" ,b)\n",
    "elif(b>a):\n",
    "    if(b>c):\n",
    "        if(a>c):\n",
    "            print(b, \">\" ,a, \">\" ,c)\n",
    "        else:\n",
    "            print(b, \">\" ,c, \">\" ,a)\n",
    "    else:\n",
    "        print(c, \">\" ,b, \">\" ,a)  \n",
    "elif(a==b):\n",
    "    if(c>a):\n",
    "        print(c, \">\" ,a, \"=\" ,b)\n",
    "    else:\n",
    "        print(a, \"=\" ,b, \">\" ,c)\n",
    "elif(b==c):\n",
    "    if(a>b):\n",
    "        print(a, \">\" ,b, \"=\" ,c)\n",
    "    else:\n",
    "        print(b, \"=\" ,c, \">\" ,a)\n",
    "elif(a==c):\n",
    "    if(b>a):\n",
    "        print(b, \">\" ,a, \"=\" ,c)\n",
    "    else:\n",
    "        print(a, \"=\" ,c, \">\" ,b)\n",
    "else:\n",
    "    print(a, \"=\" ,b, \"=\" ,c)"
   ]
  },
  {
   "cell_type": "markdown",
   "metadata": {},
   "source": [
    "Question 8"
   ]
  },
  {
   "cell_type": "code",
   "execution_count": 11,
   "metadata": {
    "scrolled": true
   },
   "outputs": [
    {
     "name": "stdout",
     "output_type": "stream",
     "text": [
      "Enter 1st subject marks 100\n",
      "Enter 2nd subject marks 100\n",
      "Enter 3rd subject marks 100\n",
      "Enter 4th subject marks 100\n",
      "Enter 5th subject marks 100\n",
      "O is your grade 500 is your total and 100.0 are your average marks\n"
     ]
    }
   ],
   "source": [
    "a=int(input(\"Enter 1st subject marks \"))\n",
    "b=int(input(\"Enter 2nd subject marks \"))\n",
    "c=int(input(\"Enter 3rd subject marks \"))\n",
    "d=int(input(\"Enter 4th subject marks \"))\n",
    "e=int(input(\"Enter 5th subject marks \"))\n",
    "total=a+b+c+d+e\n",
    "average=total/5\n",
    "if(average<35):\n",
    "    print(\"E is your grade\", total, \"is your total and\", average, \"are your average marks\")\n",
    "elif((average>=35) and (average<50)):\n",
    "    print(\"D is your grade\" , total, \"is your total and\", average, \"are your average marks\")\n",
    "elif((average>=50) and (average<60)):\n",
    "    print(\"C is your grade\" , total, \"is your total and\", average, \"are your average marks\")\n",
    "elif((average>=60) and (average<70)):\n",
    "    print(\"B is your grade\" , total, \"is your total and\", average, \"are your average marks\")\n",
    "elif((average>=70) and (average<80)):\n",
    "    print(\"A is your grade\" , total, \"is your total and\", average, \"are your average marks\")\n",
    "else: \n",
    "    print(\"O is your grade\" , total, \"is your total and\", average, \"are your average marks\")"
   ]
  },
  {
   "cell_type": "markdown",
   "metadata": {},
   "source": [
    "Question 9"
   ]
  },
  {
   "cell_type": "code",
   "execution_count": 14,
   "metadata": {},
   "outputs": [
    {
     "name": "stdout",
     "output_type": "stream",
     "text": [
      "Enter number of bananas 37\n",
      "You have 3 dozen and 1 extra bananas\n"
     ]
    }
   ],
   "source": [
    "a=int(input(\"Enter number of bananas \"))\n",
    "b=a//12\n",
    "c=a%12\n",
    "print(\"You have\",b,\"dozen and\",c,\"extra bananas\")"
   ]
  },
  {
   "cell_type": "markdown",
   "metadata": {},
   "source": [
    "Question 10"
   ]
  },
  {
   "cell_type": "code",
   "execution_count": 11,
   "metadata": {},
   "outputs": [
    {
     "name": "stdout",
     "output_type": "stream",
     "text": [
      "Enter a name naman\n",
      "Palindrome\n"
     ]
    }
   ],
   "source": [
    "a=input(\"Enter a name \")\n",
    "i=0\n",
    "l=len(a)\n",
    "while(l>i):\n",
    "    l=l-1\n",
    "    if(a[i]!=a[l]):\n",
    "        print(\"Not a palindrome\")\n",
    "        break\n",
    "    else:\n",
    "        i=i+1\n",
    "    print(\"Palindrome\")\n",
    "    break"
   ]
  },
  {
   "cell_type": "markdown",
   "metadata": {},
   "source": [
    "Question 11"
   ]
  },
  {
   "cell_type": "code",
   "execution_count": 16,
   "metadata": {},
   "outputs": [
    {
     "name": "stdout",
     "output_type": "stream",
     "text": [
      "Enter a number 8\n",
      "16\n"
     ]
    }
   ],
   "source": [
    "a=int(input(\"Enter a number \"))\n",
    "b=a*2\n",
    "if(a>=5):\n",
    "    print(b)\n",
    "else:\n",
    "    print(a)"
   ]
  },
  {
   "cell_type": "markdown",
   "metadata": {},
   "source": [
    "Question 12"
   ]
  },
  {
   "cell_type": "code",
   "execution_count": 2,
   "metadata": {},
   "outputs": [
    {
     "name": "stdout",
     "output_type": "stream",
     "text": [
      "Enter a +ve number 10\n",
      "10\n",
      "9\n",
      "8\n",
      "7\n",
      "6\n",
      "5\n",
      "4\n",
      "3\n",
      "2\n",
      "1\n"
     ]
    }
   ],
   "source": [
    "a=int(input(\"Enter a +ve number \"))\n",
    "while(a>0):\n",
    "    print(a)\n",
    "    a=a-1"
   ]
  },
  {
   "cell_type": "markdown",
   "metadata": {},
   "source": [
    "Question 13"
   ]
  },
  {
   "cell_type": "code",
   "execution_count": 5,
   "metadata": {},
   "outputs": [
    {
     "name": "stdout",
     "output_type": "stream",
     "text": [
      "1505\n",
      "1540\n",
      "1575\n",
      "1610\n",
      "1645\n",
      "1680\n",
      "1715\n",
      "1750\n",
      "1785\n",
      "1820\n",
      "1855\n",
      "1890\n",
      "1925\n",
      "1960\n",
      "1995\n",
      "2030\n",
      "2065\n",
      "2100\n",
      "2135\n",
      "2170\n",
      "2205\n",
      "2240\n",
      "2275\n",
      "2310\n",
      "2345\n",
      "2380\n",
      "2415\n",
      "2450\n",
      "2485\n",
      "2520\n",
      "2555\n",
      "2590\n",
      "2625\n",
      "2660\n",
      "2695\n"
     ]
    }
   ],
   "source": [
    "a=1500\n",
    "b=2700\n",
    "while(b>=a):    \n",
    "    if((a%7==0) and (a%5==0)):\n",
    "        print(a)\n",
    "    a=a+1"
   ]
  },
  {
   "cell_type": "markdown",
   "metadata": {},
   "source": [
    "Question 14"
   ]
  },
  {
   "cell_type": "code",
   "execution_count": 5,
   "metadata": {},
   "outputs": [
    {
     "name": "stdout",
     "output_type": "stream",
     "text": [
      "*\n",
      "**\n",
      "***\n",
      "****\n",
      "*****\n",
      "****\n",
      "***\n",
      "**\n",
      "*\n",
      "\n"
     ]
    }
   ],
   "source": [
    "y=0\n",
    "count=4\n",
    "while(y<5):\n",
    "    y=y+1\n",
    "    print(\"*\" * (y))    \n",
    "while(count>=0):\n",
    "    print(\"*\" * (count))\n",
    "    count=count-1"
   ]
  },
  {
   "cell_type": "markdown",
   "metadata": {},
   "source": [
    "Question 15"
   ]
  },
  {
   "cell_type": "code",
   "execution_count": 2,
   "metadata": {},
   "outputs": [
    {
     "name": "stdout",
     "output_type": "stream",
     "text": [
      "0 1 2 4 5 "
     ]
    }
   ],
   "source": [
    "for h in range (0,7):\n",
    "    if(h==3 or h==6):\n",
    "        continue\n",
    "    print(h,end=' ')"
   ]
  },
  {
   "cell_type": "markdown",
   "metadata": {},
   "source": [
    "Question 16"
   ]
  },
  {
   "cell_type": "code",
   "execution_count": 7,
   "metadata": {},
   "outputs": [
    {
     "name": "stdout",
     "output_type": "stream",
     "text": [
      "Enter text dad1\n",
      "letters  3\n",
      "digits  1\n"
     ]
    }
   ],
   "source": [
    "a=input(\"Enter text \")\n",
    "count1=0\n",
    "count2=0\n",
    "i=len(a)\n",
    "while(i>0):\n",
    "    i=i-1\n",
    "    if(a[i].isdigit()):\n",
    "        count1=count1+1\n",
    "    else:\n",
    "        count2=count2+1\n",
    "print(\"letters \",count2)\n",
    "print(\"digits \",count1)"
   ]
  },
  {
   "cell_type": "markdown",
   "metadata": {},
   "source": [
    "Question 18"
   ]
  },
  {
   "cell_type": "code",
   "execution_count": 16,
   "metadata": {},
   "outputs": [
    {
     "name": "stdout",
     "output_type": "stream",
     "text": [
      "Enter name of month june\n",
      "Enter a valid month\n"
     ]
    }
   ],
   "source": [
    "a=input(\"Enter name of month \")\n",
    "if(a=='January' or a=='March' or a=='May' or a=='July' or a=='August' or a=='October' or a=='December'):\n",
    "    x=31\n",
    "elif(a=='April' or a=='June' or a=='September' or a=='November'):\n",
    "    x=30\n",
    "elif(a=='February'):\n",
    "    x=\"28/29 days\"\n",
    "else:\n",
    "    x=\"Enter a valid month\"\n",
    "print(x)"
   ]
  },
  {
   "cell_type": "markdown",
   "metadata": {},
   "source": [
    "Question 19"
   ]
  },
  {
   "cell_type": "code",
   "execution_count": null,
   "metadata": {},
   "outputs": [
    {
     "name": "stdout",
     "output_type": "stream",
     "text": [
      "Input lengths of the triangle sides:\n"
     ]
    }
   ],
   "source": [
    "print(\"Input lengths of the triangle sides:\")\n",
    "x=input(\"x: \")\n",
    "y=input(\"y: \")\n",
    "z=input(\"z: \")\n",
    "if(x==y==z):\n",
    "    print(\"Equilateral triangle\")\n",
    "elif((x==y or y==x) or (y==z or z==y) or (x==z or z==x)):\n",
    "    print(\"Isosceles triangle\")\n",
    "else:\n",
    "    print(\"Scalene triangle\")"
   ]
  },
  {
   "cell_type": "markdown",
   "metadata": {},
   "source": [
    "Question 20"
   ]
  },
  {
   "cell_type": "code",
   "execution_count": 15,
   "metadata": {},
   "outputs": [
    {
     "name": "stdout",
     "output_type": "stream",
     "text": [
      "Input a year: 6\n",
      "Input a month [1-12]: 6\n",
      "Input a day [1-31]: 6\n",
      "The next date is [yyyy-mm-dd] 6 - 6 - 7\n"
     ]
    }
   ],
   "source": [
    "a=int(input(\"Input a year: \"))\n",
    "b=int(input(\"Input a month [1-12]: \"))\n",
    "c=int(input(\"Input a day [1-31]: \"))\n",
    "c=c+1\n",
    "if(c>31):\n",
    "    b=b+1\n",
    "if(b>12):\n",
    "    a=a+1\n",
    "print(\"The next date is [yyyy-mm-dd]\",a,\"-\",b,\"-\",c)"
   ]
  },
  {
   "cell_type": "markdown",
   "metadata": {},
   "source": [
    "Question 21"
   ]
  },
  {
   "cell_type": "code",
   "execution_count": 20,
   "metadata": {},
   "outputs": [
    {
     "name": "stdout",
     "output_type": "stream",
     "text": [
      "Input first number 1\n",
      "Input second number 2\n",
      "Input third number 4\n",
      "The median is 2\n"
     ]
    }
   ],
   "source": [
    "a=int(input(\"Input first number \"))\n",
    "b=int(input(\"Input second number \"))\n",
    "c=int(input(\"Input third number \"))\n",
    "if(a>b):\n",
    "    if(c>b):\n",
    "        if(a>c):\n",
    "            print(\"The median is\",c)\n",
    "        else:\n",
    "            print(\"The median is\",a)\n",
    "    else:\n",
    "            print(\"The median is\",b)\n",
    "else:\n",
    "    if(c>a):\n",
    "        if(c>b):\n",
    "            print(\"The median is\",b)\n",
    "        else:\n",
    "            print(\"The median is\",c)\n",
    "    else:\n",
    "        print(\"The median is\",a)    "
   ]
  },
  {
   "cell_type": "markdown",
   "metadata": {},
   "source": [
    "Question 22"
   ]
  },
  {
   "cell_type": "code",
   "execution_count": 21,
   "metadata": {},
   "outputs": [
    {
     "name": "stdout",
     "output_type": "stream",
     "text": [
      "Input a number: 6\n",
      "6 * 1 = 6\n",
      "6 * 2 = 12\n",
      "6 * 3 = 18\n",
      "6 * 4 = 24\n",
      "6 * 5 = 30\n",
      "6 * 6 = 36\n",
      "6 * 7 = 42\n",
      "6 * 8 = 48\n",
      "6 * 9 = 54\n",
      "6 * 10 = 60\n"
     ]
    }
   ],
   "source": [
    "a=int(input(\"Input a number: \"))\n",
    "b=1\n",
    "while(b<=10):\n",
    "    c=a*b\n",
    "    print(a,\"*\",b,\"=\",c)\n",
    "    b=b+1"
   ]
  },
  {
   "cell_type": "markdown",
   "metadata": {},
   "source": [
    "Question 23"
   ]
  },
  {
   "cell_type": "code",
   "execution_count": 10,
   "metadata": {},
   "outputs": [
    {
     "name": "stdout",
     "output_type": "stream",
     "text": [
      "1\n",
      "22\n",
      "333\n",
      "4444\n",
      "55555\n",
      "666666\n",
      "7777777\n",
      "88888888\n",
      "999999999\n"
     ]
    }
   ],
   "source": [
    "a=1\n",
    "b=1\n",
    "while(a<10):\n",
    "    print(a * b)\n",
    "    a=a+1\n",
    "    b=1*(10**(a)-1)//9"
   ]
  },
  {
   "cell_type": "markdown",
   "metadata": {},
   "source": [
    "Question 24"
   ]
  },
  {
   "cell_type": "code",
   "execution_count": 20,
   "metadata": {},
   "outputs": [
    {
     "name": "stdout",
     "output_type": "stream",
     "text": [
      "2019-08-21 11:08:15.064544\n"
     ]
    }
   ],
   "source": [
    "import datetime\n",
    "today=datetime.datetime.today()\n",
    "print(today)"
   ]
  },
  {
   "cell_type": "markdown",
   "metadata": {},
   "source": [
    "Question 25"
   ]
  },
  {
   "cell_type": "code",
   "execution_count": 17,
   "metadata": {},
   "outputs": [
    {
     "name": "stdout",
     "output_type": "stream",
     "text": [
      "Enter first name hsrah\n",
      "Enter last name nohdrrev\n",
      "h a r s h v e r r d h o n "
     ]
    }
   ],
   "source": [
    "a=input(\"Enter first name \")\n",
    "b=input(\"Enter last name \")\n",
    "x=len(a)\n",
    "y=len(b)\n",
    "while(x>0):\n",
    "    x=x-1\n",
    "    f=a[x]  \n",
    "    print(f,end = ' ')\n",
    "while(y>0):\n",
    "    y=y-1\n",
    "    l=b[y]\n",
    "    print(l,end = ' ')"
   ]
  },
  {
   "cell_type": "markdown",
   "metadata": {},
   "source": [
    "Question 26"
   ]
  },
  {
   "cell_type": "code",
   "execution_count": 28,
   "metadata": {},
   "outputs": [
    {
     "name": "stdout",
     "output_type": "stream",
     "text": [
      "Enter integer value 5\n",
      "615\n"
     ]
    }
   ],
   "source": [
    "n=int(input(\"Enter integer value \"))\n",
    "a=11*n\n",
    "b=111*n\n",
    "z=n+a+b\n",
    "print(z)"
   ]
  },
  {
   "cell_type": "markdown",
   "metadata": {},
   "source": [
    "Question 27"
   ]
  },
  {
   "cell_type": "code",
   "execution_count": 30,
   "metadata": {},
   "outputs": [
    {
     "name": "stdout",
     "output_type": "stream",
     "text": [
      "Enter 1st integer value 2\n",
      "Enter 2nd integer value 1\n",
      "Enter 3rd integer value 3\n",
      "6\n"
     ]
    }
   ],
   "source": [
    "a=int(input(\"Enter 1st integer value \"))\n",
    "b=int(input(\"Enter 2nd integer value \"))\n",
    "c=int(input(\"Enter 3rd integer value \"))\n",
    "y=a+b+c\n",
    "z=3*y\n",
    "if(a==b==c):\n",
    "    print(z)\n",
    "else:\n",
    "    print(y)"
   ]
  },
  {
   "cell_type": "markdown",
   "metadata": {},
   "source": [
    "Question 28"
   ]
  },
  {
   "cell_type": "code",
   "execution_count": 1,
   "metadata": {},
   "outputs": [
    {
     "name": "stdout",
     "output_type": "stream",
     "text": [
      "Enter amount 10000\n",
      "Enter rate of interest 3.5\n",
      "Enter amount of time in years 7\n",
      "12450.0\n"
     ]
    }
   ],
   "source": [
    "p=int(input(\"Enter amount \"))\n",
    "r=float(input(\"Enter rate of interest \"))\n",
    "t=int(input(\"Enter amount of time in years \"))\n",
    "s=(p*r*t)/100\n",
    "f=p+s\n",
    "print(f)        "
   ]
  },
  {
   "cell_type": "markdown",
   "metadata": {},
   "source": [
    "Question 29"
   ]
  },
  {
   "cell_type": "code",
   "execution_count": 33,
   "metadata": {},
   "outputs": [
    {
     "name": "stdout",
     "output_type": "stream",
     "text": [
      "Enter seconds 3601\n",
      "1 hour/s 0 minute/s 1 second/s\n"
     ]
    }
   ],
   "source": [
    "a=int(input(\"Enter seconds \"))\n",
    "h=a//3600\n",
    "m=(a%3600)//60\n",
    "s=(a%60)%60\n",
    "print(h,\"hour/s\",m,\"minute/s\",s,\"second/s\")"
   ]
  },
  {
   "cell_type": "markdown",
   "metadata": {},
   "source": [
    "Question 30"
   ]
  },
  {
   "cell_type": "code",
   "execution_count": 16,
   "metadata": {},
   "outputs": [
    {
     "name": "stdout",
     "output_type": "stream",
     "text": [
      "Enter 1st number 1\n",
      "Enter 2nd number 2\n",
      "Enter 3rd number 3\n",
      "3 > 2 > 1\n"
     ]
    }
   ],
   "source": [
    "a=int(input(\"Enter 1st number \"))\n",
    "b=int(input(\"Enter 2nd number \"))\n",
    "c=int(input(\"Enter 3rd number \"))\n",
    "x=max(a,max(b,c))\n",
    "y=min(a,min(b,c))\n",
    "z=(a+b+c)-(x+y)\n",
    "print(x, \">\",z, \">\",y)"
   ]
  },
  {
   "cell_type": "code",
   "execution_count": null,
   "metadata": {},
   "outputs": [],
   "source": []
  }
 ],
 "metadata": {
  "kernelspec": {
   "display_name": "Python 3",
   "language": "python",
   "name": "python3"
  },
  "language_info": {
   "codemirror_mode": {
    "name": "ipython",
    "version": 3
   },
   "file_extension": ".py",
   "mimetype": "text/x-python",
   "name": "python",
   "nbconvert_exporter": "python",
   "pygments_lexer": "ipython3",
   "version": "3.7.3"
  }
 },
 "nbformat": 4,
 "nbformat_minor": 2
}
